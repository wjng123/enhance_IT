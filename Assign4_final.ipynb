{
  "nbformat": 4,
  "nbformat_minor": 0,
  "metadata": {
    "colab": {
      "name": "Assign4 final.ipynb",
      "provenance": []
    },
    "kernelspec": {
      "name": "python3",
      "display_name": "Python 3"
    },
    "language_info": {
      "name": "python"
    }
  },
  "cells": [
    {
      "cell_type": "code",
      "execution_count": null,
      "metadata": {
        "id": "pLimTPurScl6"
      },
      "outputs": [],
      "source": [
        "import numpy as np\n",
        "import pandas as pd\n",
        "import matplotlib.pyplot as plt\n",
        "from matplotlib.colors import ListedColormap\n",
        "\n",
        "def conf_matrix (y,y_hat):\n",
        "  dic={\"TN\":0,\"TP\":0,\"FN\":0,\"FP\" : 0}\n",
        "\n",
        "  for i in range(len(y)):\n",
        "    if y_hat[i] == 0:\n",
        "      if y[i] == 0:\n",
        "        dic[\"TN\"] += 1\n",
        "      else:\n",
        "        dic[\"FN\"] += 1\n",
        "    else:\n",
        "      if y[i] == 1:\n",
        "        dic[\"TP\"] += 1\n",
        "      else:\n",
        "        dic[\"FP\"] += 1\n",
        "  return dic\n",
        "\n",
        "def recall(dic):\n",
        "  return dic[\"TP\"]/(dic[\"TP\"]+dic[\"FN\"])\n",
        "def precision (dic):\n",
        "  return dic[\"TP\"]/(dic[\"TP\"]+dic[\"FP\"])\n",
        "def F1 (dic):\n",
        "  return 2 * precision(dic)*recall(dic) / (precision(dic)+recall(dic))\n",
        "\n",
        "def sigmoid(h):\n",
        "  return 1 / (1+ np.exp(-h))\n",
        "\n",
        "def bin_cross_entropy(y,p_hat):\n",
        "  return -(1/len(y))* np.sum(y*np.log(p_hat)+(1-y)*np.log(1-p_hat))\n",
        "\n",
        "def accuracy (y,y_hat):\n",
        "  return np.mean(y==y_hat)\n",
        "\n",
        "\n",
        "\n",
        "def one_hot_encode(y):\n",
        "  N = len(y)\n",
        "  k = len(set(y))\n",
        "\n",
        "  Y = np.zeros((N,k))\n",
        "  for i in range(N):\n",
        "    Y[i,y[i]] = 1\n",
        "  return Y\n",
        "\n",
        "class slr():\n",
        "  def __init__(self,thresh = 0.5):\n",
        "    self.thresh = thresh\n",
        "    self.w = None\n",
        "    self.B = None\n",
        "  \n",
        "  def fit( self, x, y, eta = 1e-3, epochs = 1e3, show_curve = False):\n",
        "    epochs = int(epochs)\n",
        "    N,D = x.shape\n",
        "\n",
        "    # initialize w and B\n",
        "    self.w = np.random.randn(D)\n",
        "    self.B = np.random.randn(1)\n",
        "\n",
        "    J = np.zeros(epochs)\n",
        "\n",
        "    for epoch in range(epochs):\n",
        "      p_hat = self.__forward__(x)\n",
        "      J[epoch] = bin_cross_entropy(y,p_hat)\n",
        "\n",
        "      self.w -= eta*(1/N)*x.T@(p_hat-y)\n",
        "      self.B -= eta*(1/N)*np.sum(p_hat-y)\n",
        "\n",
        "    if show_curve:\n",
        "      plt.figure()\n",
        "      plt.plot(J)\n",
        "      plt.xlabel(\"epochs\")\n",
        "      plt.ylabel(\"$\\mathcal{J}$\")\n",
        "      plt.title(\"Training Curve\")\n",
        "    \n",
        "  def __forward__(self,x):\n",
        "      return sigmoid(x@self.w + self.B)\n",
        "  def predict(self,x):\n",
        "      return(self.__forward__(x)>=self.thresh).astype(np.int32)"
      ]
    },
    {
      "cell_type": "code",
      "source": [
        "data = pd.read_csv(\"/content/drive/MyDrive/enhanceIT/churn.csv\")\n",
        "\n",
        "# one hot encode\n",
        "data[\"is_female\"] = data[\"Gender\"] == \"Female\"\n",
        "data[\"is_france\"] = data[\"Geography\"] == \"France\"\n",
        "data[\"is_germany\"] = data[\"Geography\"] == \"Germany\"\n",
        "data[\"is_spain\"] = data[\"Geography\"] == \"Spain\"\n",
        "\n",
        "# change to int type\n",
        "data[\"Balance\"] = data[\"Balance\"].astype(int)\n",
        "data[\"EstimatedSalary\"]=data[\"EstimatedSalary\"].astype(int)\n",
        "data[\"is_france\"] = data[\"is_france\"].astype(int)\n",
        "data[\"is_germany\"]=data[\"is_germany\"].astype(int)\n",
        "data[\"is_spain\"]=data[\"is_spain\"].astype(int)\n",
        "data[\"is_female\"]=data[\"is_female\"].astype(int)\n",
        "\n",
        "# normalize data\n",
        "maxx = max(data[\"Balance\"])\n",
        "minn = min(data[\"Balance\"])\n",
        "data[\"Balance\"] = (data[\"Balance\"] - minn)/(maxx - minn)\n",
        "\n",
        "maxx = max(data[\"Age\"])\n",
        "minn = min(data[\"Age\"])\n",
        "data[\"Age\"] = (data[\"Age\"] - minn)/(maxx - minn)\n",
        "\n",
        "# final data\n",
        "d = data[[\"Age\",\"Exited\",\"is_female\",\"IsActiveMember\",\"Balance\",\"is_france\",\"is_germany\"]]\n",
        "\n"
      ],
      "metadata": {
        "id": "sNGk1Oj5Wt6h"
      },
      "execution_count": 56,
      "outputs": []
    },
    {
      "cell_type": "code",
      "source": [
        "# split train and test set\n",
        "vald_set = d.sample(frac = 0.3,random_state =8)\n",
        "train_data =d.drop(vald_set.index)\n",
        "#print(len(train_data))\n",
        "\n",
        "# split train data into 0 and 1 for Exited\n",
        "d_0 = train_data[train_data.Exited == 0]\n",
        "d1 = train_data[train_data.Exited == 1]\n",
        "\n",
        "# split train data into equal amount of 0 and 1 for Exited\n",
        "d_0_half = d_0.sample(frac = 0.26,random_state =25)\n",
        "train_data = pd.concat([d_0_half, d1])\n",
        "\n",
        "\n",
        "\n",
        "\n",
        "vald_data = vald_set.sample(frac = 0.5,random_state =45)\n",
        "test_data = vald_set.drop(vald_data.index)\n",
        "\n",
        "whole_y = d[\"Exited\"]\n",
        "whole_x = d.drop(\"Exited\", axis = 1)\n",
        "\n",
        "train_y = train_data[\"Exited\"]\n",
        "vald_y = vald_data[\"Exited\"]\n",
        "test_y = test_data[\"Exited\"]\n",
        "\n",
        "train_x = train_data.drop(\"Exited\",axis = 1)\n",
        "#print(train_x)\n",
        "vald_x = vald_data.drop(\"Exited\",axis = 1)\n",
        "test_x = test_data.drop(\"Exited\",axis = 1)\n",
        "\n",
        "#plt.hist(train_data['Exited'])\n",
        "#print(len(train_data))\n",
        "train_x = train_x.to_numpy()\n",
        "train_y = train_y.to_numpy()\n",
        "vald_x = vald_x.to_numpy()\n",
        "vald_y = vald_y.to_numpy()\n",
        "test_x = test_x.to_numpy()\n",
        "test_y = test_y.to_numpy()\n",
        "\n"
      ],
      "metadata": {
        "colab": {
          "base_uri": "https://localhost:8080/",
          "height": 543
        },
        "id": "ydMCve63S1pN",
        "outputId": "df5801f5-9a6b-42b2-923e-315a312f9e58"
      },
      "execution_count": 101,
      "outputs": [
        {
          "output_type": "stream",
          "name": "stdout",
          "text": [
            "7000\n",
            "           Age  is_female  IsActiveMember   Balance  is_france  is_germany\n",
            "93    0.148649          0               1  0.000000          1           0\n",
            "5689  0.432432          1               1  0.526461          0           0\n",
            "1209  0.189189          1               0  0.000000          1           0\n",
            "6230  0.716216          0               1  0.000000          1           0\n",
            "966   0.216216          1               1  0.557238          1           0\n",
            "...        ...        ...             ...       ...        ...         ...\n",
            "9981  0.324324          0               1  0.605979          0           1\n",
            "9982  0.378378          1               0  0.546617          0           1\n",
            "9991  0.472973          1               0  0.352259          1           0\n",
            "9997  0.243243          1               1  0.000000          1           0\n",
            "9998  0.324324          0               0  0.299225          0           1\n",
            "\n",
            "[2887 rows x 6 columns]\n",
            "2887\n"
          ]
        },
        {
          "output_type": "display_data",
          "data": {
            "text/plain": [
              "<Figure size 432x288 with 1 Axes>"
            ],
            "image/png": "[encoded data removed]"
          },
          "metadata": {
            "needs_background": "light"
          }
        }
      ]
    },
    {
      "cell_type": "code",
      "source": [
        "log_reg = slr()\n",
        "log_reg.fit(train_x,train_y,epochs =1e5, eta = 8e-3,show_curve = True)\n",
        "y_hat = log_reg.predict(vald_x)\n",
        "\n"
      ],
      "metadata": {
        "colab": {
          "base_uri": "https://localhost:8080/",
          "height": 295
        },
        "id": "H1Z5_-bdGAGM",
        "outputId": "201832ee-f1e0-4c4f-ef77-b810e85aea37"
      },
      "execution_count": 104,
      "outputs": [
        {
          "output_type": "display_data",
          "data": {
            "text/plain": [
              "<Figure size 432x288 with 1 Axes>"
            ],
            "image/png": "[encoded data removed]"
          },
          "metadata": {
            "needs_background": "light"
          }
        }
      ]
    },
    {
      "cell_type": "code",
      "source": [
        "print(f\"Accruacy: {accuracy(vald_y,y_hat):0.4f}\")\n",
        "dic = conf_matrix (vald_y,y_hat)\n",
        "print(dic)\n",
        "print(f\"Recall: {recall(dic):0.4f}\")\n",
        "print(f\"Precision: {precision(dic):0.4f}\")\n",
        "print(f\"F1: {F1(dic):0.4f}\")"
      ],
      "metadata": {
        "colab": {
          "base_uri": "https://localhost:8080/"
        },
        "id": "VLgWSWRuGzEB",
        "outputId": "76ac2cb8-9dec-4853-eb48-6f1ce56cf56d"
      },
      "execution_count": 106,
      "outputs": [
        {
          "output_type": "stream",
          "name": "stdout",
          "text": [
            "Accruacy: 0.7047\n",
            "{'TN': 823, 'TP': 234, 'FN': 77, 'FP': 366}\n",
            "Recall: 0.7524\n",
            "Precision: 0.3900\n",
            "F1: 0.5137\n"
          ]
        }
      ]
    },
    {
      "cell_type": "code",
      "source": [
        "y_hat = log_reg.predict(test_x)\n",
        "print(f\"Accruacy: {accuracy(test_y,y_hat):0.4f}\")\n",
        "dic = conf_matrix (test_y,y_hat)\n",
        "print(dic)\n",
        "print(f\"Recall: {recall(dic):0.4f}\")\n",
        "print(f\"Precision: {precision(dic):0.4f}\")\n",
        "print(f\"F1: {F1(dic):0.4f}\")"
      ],
      "metadata": {
        "colab": {
          "base_uri": "https://localhost:8080/"
        },
        "id": "Ff5JzG7_VogE",
        "outputId": "28843c60-d0e1-4a58-8e67-74aa4bb3d524"
      },
      "execution_count": 107,
      "outputs": [
        {
          "output_type": "stream",
          "name": "stdout",
          "text": [
            "Accruacy: 0.7053\n",
            "{'TN': 851, 'TP': 207, 'FN': 77, 'FP': 365}\n",
            "Recall: 0.7289\n",
            "Precision: 0.3619\n",
            "F1: 0.4836\n"
          ]
        }
      ]
    }
  ]
}