{
  "nbformat": 4,
  "nbformat_minor": 0,
  "metadata": {
    "colab": {
      "name": "Assignment 2",
      "provenance": []
    },
    "kernelspec": {
      "name": "python3",
      "display_name": "Python 3"
    },
    "language_info": {
      "name": "python"
    }
  },
  "cells": [
    {
      "cell_type": "code",
      "execution_count": null,
      "metadata": {
        "id": "InLV955qhE7t"
      },
      "outputs": [],
      "source": [
        "from google.colab import files\n",
        "import pandas as pd\n",
        "import numpy as np\n",
        "import seaborn as sns                       \n",
        "import matplotlib.pyplot as plt  \n",
        "from PIL import Image\n",
        "\n",
        "# store the data as pandas dataframe\n",
        "train_data = pd.read_csv(\"/content/drive/MyDrive/enhanceIT/MNIST_train.csv\")\n",
        "test_data = pd.read_csv(\"/content/drive/MyDrive/enhanceIT/MNIST_test.csv\")\n",
        "\n",
        "train_data\n"
      ]
    },
    {
      "cell_type": "code",
      "source": [
        "# input - pandas data frame\n",
        "# output - np arrays representing x and y value for the pd data\n",
        "def pd_to_np (data):\n",
        "  data_np = np.array(data)\n",
        "  x = data_np[:,3:]\n",
        "  y = data_np[:,2]\n",
        "\n",
        "  return x,y\n",
        "\n",
        "# obtain x and y values for both data\n",
        "x_train,y_train = pd_to_np(train_data)\n",
        "\n",
        "# split test set into validation and actual test set\n",
        "vald_set = test_data.sample(frac = 0.5,random_state = 25)\n",
        "test_set = test_data.drop(vald_set.index)\n",
        "\n",
        "# change valid and test datat to np\n",
        "vald_x,vald_y = pd_to_np(vald_set)\n",
        "x_test,y_test = pd_to_np(test_set)\n"
      ],
      "metadata": {
        "id": "vBCtC8ujnX_6"
      },
      "execution_count": null,
      "outputs": []
    },
    {
      "cell_type": "code",
      "source": [
        "# function for printing the actual image of an observation\n",
        "def print_num( data,index):\n",
        "  im = data.to_numpy()\n",
        "  print(im[index,2])\n",
        "  im = im[index,3:]\n",
        "  \n",
        "  pixels = np.array(im)\n",
        "  \n",
        "\n",
        "\n",
        "  pixels = np.array(pixels, dtype = 'int64')\n",
        " # Reshape the array into 28 x 28 array (2-dimensional array)\n",
        "  pixels = pixels.reshape((28, 28))\n",
        "\n",
        "        # Plot\n",
        "  plt.imshow(pixels, cmap='gray')\n",
        "  plt.show()\n"
      ],
      "metadata": {
        "id": "FiQrywQpkPmj"
      },
      "execution_count": 52,
      "outputs": []
    },
    {
      "cell_type": "code",
      "source": [
        "class KNNClassifier ():\n",
        "\n",
        "  def fit(self,x,y):\n",
        "    self.x = x\n",
        "    self.y = y\n",
        "  \n",
        "  def predict (self, x, k, epsilon = [1e-3]):\n",
        "    N = len(x)\n",
        "    y_hat = np.zeros((len(epsilon),N))\n",
        "\n",
        "    for i in range(N):\n",
        "      if i % 100 == 0:\n",
        "        print(i)\n",
        "      dist_sq = np.sum((self.x - x[i])**2, axis = 1)\n",
        "      index = np.argsort(dist_sq)[:k]\n",
        "      \n",
        "      temp = dist_sq[index]\n",
        "      for j,e in enumerate(epsilon):\n",
        "        gamma_k = 1/(np.sqrt(temp+e))\n",
        "        y_hat[j][i] = np.bincount(self.y[index],weights=gamma_k).argmax()\n",
        "\n",
        "    return y_hat"
      ],
      "metadata": {
        "id": "w0Lv2nkuogk2"
      },
      "execution_count": 8,
      "outputs": []
    },
    {
      "cell_type": "code",
      "source": [
        "knn = KNNClassifier()\n",
        "knn.fit(x_train,y_train)\n",
        "\n",
        "# use multiple epsilon values if needed\n",
        "eps = [1e-3,0.5e-3,0.25e-3,0.1e-3,1e-4]\n",
        "\n",
        "y_hat = knn.predict(x_test,4)"
      ],
      "metadata": {
        "id": "iKnWMN_Ooift",
        "colab": {
          "base_uri": "https://localhost:8080/"
        },
        "outputId": "35bbff3e-5b23-4bda-919d-561fd731cd7e"
      },
      "execution_count": 29,
      "outputs": [
        {
          "output_type": "stream",
          "name": "stdout",
          "text": [
            "0\n",
            "100\n",
            "200\n",
            "300\n",
            "400\n",
            "500\n",
            "600\n",
            "700\n",
            "800\n",
            "900\n",
            "1000\n",
            "1100\n",
            "1200\n",
            "1300\n",
            "1400\n",
            "1500\n",
            "1600\n",
            "1700\n",
            "1800\n",
            "1900\n",
            "2000\n",
            "2100\n",
            "2200\n",
            "2300\n",
            "2400\n",
            "2500\n",
            "2600\n",
            "2700\n",
            "2800\n",
            "2900\n",
            "3000\n",
            "3100\n",
            "3200\n",
            "3300\n",
            "3400\n",
            "3500\n",
            "3600\n",
            "3700\n",
            "3800\n",
            "3900\n",
            "4000\n",
            "4100\n",
            "4200\n",
            "4300\n",
            "4400\n",
            "4500\n",
            "4600\n",
            "4700\n",
            "4800\n",
            "4900\n"
          ]
        }
      ]
    },
    {
      "cell_type": "code",
      "source": [
        "def accuracy  (y, y_hat):\n",
        "  return np.mean(y == y_hat)\n",
        "for i in y_hat:\n",
        "  print(accuracy(i,y_test))\n"
      ],
      "metadata": {
        "colab": {
          "base_uri": "https://localhost:8080/"
        },
        "id": "DPKIPQ9pqixy",
        "outputId": "0a925e65-da66-4317-ed7a-2eda98eb7fba"
      },
      "execution_count": 31,
      "outputs": [
        {
          "output_type": "stream",
          "name": "stdout",
          "text": [
            "0.9694\n"
          ]
        }
      ]
    },
    {
      "cell_type": "code",
      "source": [
        "plt.figure(figsize=(10,7))\n",
        "y_actu = pd.Series(y_test, name='Actual')\n",
        "y_pred = pd.Series(y_hat[0], name='Predicted')\n",
        "cm = pd.crosstab(y_actu, y_pred)\n",
        "ax = sns.heatmap(cm, annot=True, fmt=\"d\",cmap = \"Blues\")\n",
        "plt.ylabel('True label')\n",
        "plt.xlabel('Predicted label')"
      ],
      "metadata": {
        "colab": {
          "base_uri": "https://localhost:8080/",
          "height": 459
        },
        "id": "uYMiYJ4A4cRe",
        "outputId": "02fc9dd8-c196-4875-c35a-72538af83b10"
      },
      "execution_count": 33,
      "outputs": [
        {
          "output_type": "execute_result",
          "data": {
            "text/plain": [
              "Text(0.5, 42.0, 'Predicted label')"
            ]
          },
          "metadata": {},
          "execution_count": 33
        },
        {
          "output_type": "display_data",
          "data": {
            "text/plain": [
              "<Figure size 720x504 with 2 Axes>"
            ],
            "image/png": "[encoded data removed]"
          },
          "metadata": {
            "needs_background": "light"
          }
        }
      ]
    }
  ]
}